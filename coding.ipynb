{
 "cells": [
  {
   "cell_type": "markdown",
   "id": "cffb1094",
   "metadata": {},
   "source": [
    "feat: add customer segmentation function to src/utils.py\n",
    "\n",
    "fix: handle NaN values in order value column\n",
    "\n",
    "docs: update README with project instructions\n",
    "\n",
    "refactor: simplify price clustering logic\n",
    "\n",
    "style: reformat notebook using black formatter\n",
    "\n",
    "test: add test for review score categorization\n",
    "\n",
    "chore: add .gitignore and setup requirements.txt"
   ]
  },
  {
   "cell_type": "code",
   "execution_count": 10,
   "id": "bdd56c5b",
   "metadata": {},
   "outputs": [],
   "source": [
    "import pandas as pd\n",
    "import numpy as np\n",
    "import matplotlib.pyplot as plt\n",
    "import seaborn as sns"
   ]
  },
  {
   "cell_type": "code",
   "execution_count": 13,
   "id": "3977db03",
   "metadata": {},
   "outputs": [],
   "source": [
    "df_advertising = pd.read_csv(r'C:\\Users\\tranv\\Desktop\\Data science\\files\\advertising.csv')"
   ]
  }
 ],
 "metadata": {
  "kernelspec": {
   "display_name": "test",
   "language": "python",
   "name": "python3"
  },
  "language_info": {
   "codemirror_mode": {
    "name": "ipython",
    "version": 3
   },
   "file_extension": ".py",
   "mimetype": "text/x-python",
   "name": "python",
   "nbconvert_exporter": "python",
   "pygments_lexer": "ipython3",
   "version": "3.12.7"
  }
 },
 "nbformat": 4,
 "nbformat_minor": 5
}
